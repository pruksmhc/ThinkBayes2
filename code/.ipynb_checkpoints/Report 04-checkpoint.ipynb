{
 "cells": [
  {
   "cell_type": "markdown",
   "metadata": {},
   "source": [
    "# Report  4\n",
    "### By Yada Pruksachatkun "
   ]
  },
  {
   "cell_type": "markdown",
   "metadata": {},
   "source": [
    "License: Attribution 4.0 International (CC BY 4.0)"
   ]
  },
  {
   "cell_type": "markdown",
   "metadata": {},
   "source": [
    "Exercise 7.1. If buses arrive at a bus stop every 20 minutes, and you arrive at the bus stop at a random time, your wait time until the bus arrives is uniformly distributed from 0 to 20 minutes.\n",
    "\n",
    "\n",
    "But in reality, there is variability in the time between buses. Suppose you are waiting for a bus, and you know the historical distribution of time between buses. Compute your distribution of wait times.\n"
   ]
  },
  {
   "cell_type": "markdown",
   "metadata": {},
   "source": [
    "### Solution \n",
    "\n",
    "This is somewhat similar to the Boston Bruins problem. \n",
    "The number of times a bus comes in a 20-minute time span can be modelled using a Poisson distribution, and the number of minutes until the next bus arrives can be modelled by an Exponential distribution .\n",
    "\n",
    "Suppose the historical data is the following: 1, 2, 1, 3, 1, 2 ,  the number of buses that arrived during previous 20-minute time spans. First, let us create teh class to model bus times. "
   ]
  },
  {
   "cell_type": "code",
   "execution_count": null,
   "metadata": {
    "collapsed": false
   },
   "outputs": [],
   "source": [
    "import math\n",
    "from thinkbayes2 import Suite, EvalPoissonPmf, MakeNormalPmf,  MakeExponentialPmf, MakePoissonPmf, Pmf, MakeMixture, Joint\n",
    "import thinkplot\n",
    "    "
   ]
  },
  {
   "cell_type": "code",
   "execution_count": null,
   "metadata": {
    "collapsed": false
   },
   "outputs": [],
   "source": [
    "class Bus(Suite):\n",
    "    \"\"\"Represents hypotheses about the scoring rate for a team.\"\"\"\n",
    "\n",
    "    def __init__(self, label=None):\n",
    "        \"\"\"Initializes the Hockey object.\n",
    "\n",
    "        label: string\n",
    "        \"\"\"\n",
    "        mu = 2.8\n",
    "        sigma = 0.3\n",
    "\n",
    "        pmf = MakeNormalPmf(mu, sigma, num_sigmas=4, n=101)\n",
    "        Suite.__init__(self, pmf, label=\"Bus\")\n",
    "            \n",
    "    def Likelihood(self, data, hypo):\n",
    "        \"\"\"Computes the likelihood of the data under the hypothesis.\n",
    "\n",
    "        Evaluates the Poisson PMF for lambda and k.\n",
    "\n",
    "        hypo: goal scoring rate in goals per game\n",
    "        data: goals scored in one game\n",
    "        \"\"\"\n",
    "        lam = hypo\n",
    "        k = data\n",
    "        like = EvalPoissonPmf(k, lam)\n",
    "        return like"
   ]
  },
  {
   "cell_type": "code",
   "execution_count": null,
   "metadata": {
    "collapsed": false
   },
   "outputs": [],
   "source": [
    "suite1 = Bus()\n",
    "suite1.UpdateSet([1, 2, 1, 3, 1, 2])"
   ]
  },
  {
   "cell_type": "code",
   "execution_count": null,
   "metadata": {
    "collapsed": false
   },
   "outputs": [],
   "source": [
    "thinkplot.PrePlot(num=1)\n",
    "thinkplot.Pdf(suite1)\n",
    "thinkplot.Config(xlabel='Number of buses per 20-minute time period',\n",
    "                ylabel='Probability')\n",
    "suite1.Mean()"
   ]
  },
  {
   "cell_type": "markdown",
   "metadata": {},
   "source": [
    "THus, the mean value for lambda is 2.609 buses, meaning a bus comes every 7.69 minutes. However, given the probialgity of the various lambdas, we can weight the probaiblity of the wait time based on a mixture. \n",
    "We now need to model the probability, given lambda is 2.609, the probaiblity that the event will occur after k minutes, k being the number of minutes since minute 0 you arrive at the bus stop. "
   ]
  },
  {
   "cell_type": "code",
   "execution_count": null,
   "metadata": {
    "collapsed": false
   },
   "outputs": [],
   "source": [
    "                                                                                            \n",
    "def MakeWaitPmf(suite, high=10):\n",
    "    \"\"\"Makes the distribution of goals scored, given distribution of lam.\n",
    "\n",
    "    suite: distribution of goal-scoring rate\n",
    "    high: upper bound\n",
    "\n",
    "    returns: Pmf of goals per game\n",
    "    \"\"\"\n",
    "    metapmf = Pmf()\n",
    "\n",
    "    for lam, prob in suite.Items():\n",
    "        pmf = MakePoissonPmf(lam, high=10)\n",
    "        metapmf.Set(pmf, prob)\n",
    "\n",
    "    mix = MakeMixture(metapmf, label=suite.label)\n",
    "    return mix"
   ]
  },
  {
   "cell_type": "code",
   "execution_count": null,
   "metadata": {
    "collapsed": false
   },
   "outputs": [],
   "source": [
    "%matplotlib inline\n",
    "import matplotlib.pyplot as plt\n",
    "pmf = MakeWaitPmf(suite1)\n",
    "thinkplot.PrePlot(num=2)\n",
    "thinkplot.Pmf(pmf)\n",
    "thinkplot.Config(xlabel='Number of minutes wait time',\n",
    "                ylabel='Probability',\n",
    "               )\n",
    "pmf.Mean()\n"
   ]
  },
  {
   "cell_type": "markdown",
   "metadata": {},
   "source": [
    "Thus, the number of minutes with the highest probaiblity is 2.6 minutes, with 25% chance. "
   ]
  },
  {
   "cell_type": "markdown",
   "metadata": {},
   "source": [
    "## Chapter 9 \n",
    "\n",
    "Exercise 9.1. In our simple model, the opponent is equally likely to shoot in any\n",
    "direction. As an exercise, let’s consider improvements to this model.\n",
    "The analysis in this chapter suggests that a shooter is most likely to hit the closest wall. But in reality, if the opponent is close to a wall, he is unlikely to shoot at the wall because he is unlikely to see a target between himself and the wall.\n",
    "Design an improved model that takes this behavior into account. Try to find a model that is more realistic, but not too complicated."
   ]
  },
  {
   "cell_type": "markdown",
   "metadata": {},
   "source": [
    "### My Solution \n",
    "My solution involves changing the MakeLocationPmf() method to include not only the Strafing speed but also how near the location is to the location of the shooter."
   ]
  },
  {
   "cell_type": "code",
   "execution_count": null,
   "metadata": {
    "collapsed": false
   },
   "outputs": [],
   "source": [
    "def get_distance(a, b):\n",
    "    c_squared = (a**2) + (b**2) \n",
    "    c = math.sqrt(c_squared)\n",
    "    return c\n",
    "\n",
    "def MakeLocationPmf(alpha, beta, locations):\n",
    "    \"\"\"Computes the Pmf of the locations, given alpha and beta. \n",
    "\n",
    "    Given that the shooter is at coordinates (alpha, beta),\n",
    "    the probability of hitting any spot is inversely proportionate\n",
    "    to the strafe speed.\n",
    "\n",
    "    alpha: x position\n",
    "    beta: y position\n",
    "    locations: x locations where the pmf is evaluated\n",
    "\n",
    "    Returns: Pmf object\n",
    "    \"\"\"\n",
    "    pmf = Pmf()\n",
    "    for x in locations:\n",
    "        prob = 1.0 / StrafingSpeed(alpha, beta, x)\n",
    "        distance = get_distance(abs(alpha - x), beta)\n",
    "        prob = prob * (distance*0.1)\n",
    "        pmf.Set(x, prob)\n",
    "    pmf.Normalize()\n",
    "    return pmf"
   ]
  },
  {
   "cell_type": "markdown",
   "metadata": {},
   "source": [
    "Running through the entire analysis again:"
   ]
  },
  {
   "cell_type": "code",
   "execution_count": null,
   "metadata": {
    "collapsed": false
   },
   "outputs": [],
   "source": [
    "class Paintball(Suite, Joint):\n",
    "    \"\"\"Represents hypotheses about the location of an opponent.\"\"\"\n",
    "\n",
    "    def __init__(self, alphas, betas, locations):\n",
    "        \"\"\"Makes a joint suite of parameters alpha and beta.\n",
    "\n",
    "        Enumerates all pairs of alpha and beta.\n",
    "        Stores locations for use in Likelihood.\n",
    "\n",
    "        alphas: possible values for alpha\n",
    "        betas: possible values for beta\n",
    "        locations: possible locations along the wall\n",
    "        \"\"\"\n",
    "        self.locations = locations\n",
    "        pairs = [(alpha, beta) \n",
    "                 for alpha in alphas \n",
    "                 for beta in betas]\n",
    "        Suite.__init__(self, pairs)\n",
    "\n",
    "    def Likelihood(self, data, hypo):\n",
    "        \"\"\"Computes the likelihood of the data under the hypothesis.\n",
    "\n",
    "        hypo: pair of alpha, beta\n",
    "        data: location of a hit\n",
    "\n",
    "        Returns: float likelihood\n",
    "        \"\"\"\n",
    "        alpha, beta = hypo\n",
    "        x = data\n",
    "        pmf = MakeLocationPmf(alpha, beta, self.locations)\n",
    "        like = pmf.Prob(x)\n",
    "        return like"
   ]
  },
  {
   "cell_type": "code",
   "execution_count": null,
   "metadata": {
    "collapsed": true
   },
   "outputs": [],
   "source": [
    "\n",
    "def StrafingSpeed(alpha, beta, x):\n",
    "    \"\"\"Computes strafing speed, given location of shooter and impact.\n",
    "\n",
    "    alpha: x location of shooter\n",
    "    beta: y location of shooter\n",
    "    x: location of impact\n",
    "\n",
    "    Returns: derivative of x with respect to theta\n",
    "    \"\"\"\n",
    "    theta = math.atan2(x - alpha, beta)\n",
    "    speed = beta / math.cos(theta)**2\n",
    "    return speed"
   ]
  },
  {
   "cell_type": "code",
   "execution_count": null,
   "metadata": {
    "collapsed": false
   },
   "outputs": [],
   "source": [
    "alphas = range(0, 31)\n",
    "betas = range(1, 51)\n",
    "locations = range(0, 31)\n",
    "\n",
    "suite = Paintball(alphas, betas, locations)\n",
    "suite.UpdateSet([15, 16, 18, 21])"
   ]
  },
  {
   "cell_type": "code",
   "execution_count": null,
   "metadata": {
    "collapsed": false
   },
   "outputs": [],
   "source": [
    "locations = range(0, 31)\n",
    "alpha = 10\n",
    "betas = [10, 20, 40]\n",
    "thinkplot.PrePlot(num=len(betas))\n",
    "\n",
    "for beta in betas:\n",
    "    pmf = MakeLocationPmf(alpha, beta, locations)\n",
    "    pmf.label = 'beta = %d' % beta\n",
    "    thinkplot.Pdf(pmf)\n",
    "\n",
    "thinkplot.Contour(suite.GetDict(), contour=False, pcolor=True)\n",
    "\n",
    "thinkplot.Config(xlabel='alpha',\n",
    "                ylabel='beta',\n",
    "                axis=[0, 30, 0, 20])"
   ]
  },
  {
   "cell_type": "markdown",
   "metadata": {},
   "source": [
    "Thus, according to the contour plot above, the shooter is motely in the coordinates (17, 10)"
   ]
  },
  {
   "cell_type": "markdown",
   "metadata": {},
   "source": [
    "## Original Problems"
   ]
  },
  {
   "cell_type": "markdown",
   "metadata": {},
   "source": [
    "## Type 1 \n",
    "### Question: \n",
    "Alice recently got back an exam for her Machine Organization class, and saw that she got a question due to forgeting to label the unit for a question about converting from hexadecimal to binary she had forgot to write down base 2). She would like to talk to the grader who graded her exam. However, because the feedback is typed, she cannot tell which grader deducted her well-deserved point. Out of the other similarly small mistakes, of which there were 5, she only got points off for 3 of them.\n",
    "She know, from past experience, that Grader 1 deducts points for similar mall types of errors 25% of the time, wherease Grader 2 deducts 75% of the time. \n",
    "Of course, Alice deducts that it is more probable thatn Grader 2 is the one grading, but by what probability cna she be so sure?"
   ]
  },
  {
   "cell_type": "markdown",
   "metadata": {},
   "source": [
    "## Solution\n",
    "The prior is "
   ]
  },
  {
   "cell_type": "code",
   "execution_count": null,
   "metadata": {
    "collapsed": false
   },
   "outputs": [],
   "source": [
    "class Grading(Suite):\n",
    "    def __init__(self, hypos):\n",
    "        Pmf.__init__(self)\n",
    "        prob = [0.25,0.75]\n",
    "        for hypo,prob in zip(hypos,prob):\n",
    "            self.Set(hypo, prob)\n",
    "        self.Normalize()\n",
    "    \n",
    "    def Likelihood(self, data, hypo):\n",
    "            ''' \n",
    "            Data: is a boolean True meaning that she got a point deducted. \n",
    "                False meaning she did not get a point deducted. \n",
    "                Hypo: Grader 1 or Grader 2 \n",
    "                '''\n",
    "            if hypo == \"Grader 1\":\n",
    "                if data == True:\n",
    "                    return 0.25\n",
    "                else:\n",
    "                    return 0.75\n",
    "            else:\n",
    "                if data == True:\n",
    "                    return 0.75\n",
    "                else:\n",
    "                    return 0.25\n",
    "        "
   ]
  },
  {
   "cell_type": "code",
   "execution_count": null,
   "metadata": {
    "collapsed": false
   },
   "outputs": [],
   "source": [
    "bball_suite = Grading(['Grader 1','Grader 2'])\n",
    "bball_suite.UpdateSet([True, True, True, False, False])\n",
    "bball_suite.Print()"
   ]
  },
  {
   "cell_type": "markdown",
   "metadata": {},
   "source": [
    "Thus, the probability that Grader 2 graded her exam is almost 1, andt the probaiblty that Grader 2 is the grader is 0.8 more than that of Grader 1. Thus, Alice should talk to Grader 2."
   ]
  },
  {
   "cell_type": "markdown",
   "metadata": {},
   "source": [
    "## Type 3\n",
    "### Problem : The Waiting Game\n",
    "\n",
    "Lana Del Rey is currently running late to your workplace, which is at Menlo Park. Because Lana lives in San Francisco, there's two ways to get to your office; 1) Commuter railing there or 2) Ubering. Since Ubering costs 300% more than the first option, Lana would prefer the first option. \n",
    "\n",
    "For simplicity, let us assume that the commuter rail always takes 45 minutes.  \n",
    "\n",
    "However, what Lana is worried about is waiting time. Because the commuter rail in SF is notoriously known to be slow or late, Lana's friends and her have created a record of how long Lana's waited for teh commuter rail. \n",
    "\n",
    "Lana has to be at work in 70 minutes. Should Lana take the first or second option?\n",
    "\n",
    "You are given the number of minutes it has taken Lana's  friends in the past to wait for both.\n",
    "\n",
    "Commuter rail: [0, 10, 5, 7, 3, 14, 13, 20, 60, 11]"
   ]
  },
  {
   "cell_type": "markdown",
   "metadata": {},
   "source": [
    "## Solution \n",
    "\n",
    "We model both varaibles, x (waiting time for Uber) and y (waiting time for commuter rail) using exponential distribution, and represent the hypothesis with tuples of numbers. We want to find k and lambda for the exponential function to get the probability of the waiting time. "
   ]
  },
  {
   "cell_type": "code",
   "execution_count": null,
   "metadata": {
    "collapsed": true
   },
   "outputs": [],
   "source": [
    "# Solution\n",
    "\n",
    "from thinkbayes2 import EvalNormalPdf\n",
    "\n",
    "class TheWaitingGame(Suite, Joint):\n",
    "    \"\"\"Represents hypotheses about your location in the field.\"\"\"\n",
    "\n",
    "    def Likelihood(self, data, hypo):\n",
    "        \"\"\"Computes the likelihood of the data under the hypothesis.\n",
    "        hypo: (k,lam), where \n",
    "        data: The waiting time. \n",
    "        \"\"\"\n",
    "        k, lam = hypo \n",
    "        makeEvalPdf()\n",
    "        return like"
   ]
  }
 ],
 "metadata": {
  "kernelspec": {
   "display_name": "Python 2",
   "language": "python",
   "name": "python2"
  },
  "language_info": {
   "codemirror_mode": {
    "name": "ipython",
    "version": 2
   },
   "file_extension": ".py",
   "mimetype": "text/x-python",
   "name": "python",
   "nbconvert_exporter": "python",
   "pygments_lexer": "ipython2",
   "version": "2.7.12"
  }
 },
 "nbformat": 4,
 "nbformat_minor": 1
}
