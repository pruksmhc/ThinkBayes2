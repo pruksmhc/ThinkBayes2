{
 "cells": [
  {
   "cell_type": "markdown",
   "metadata": {},
   "source": [
    "# Think Bayes solutions: Chapter 2\n",
    "\n",
    "This notebook presents solutions to exercises in Think Bayes.\n",
    "\n",
    "Copyright 2016 Allen B. Downey\n",
    "\n",
    "MIT License: https://opensource.org/licenses/MIT"
   ]
  },
  {
   "cell_type": "code",
   "execution_count": 1,
   "metadata": {
    "collapsed": false
   },
   "outputs": [],
   "source": [
    "from __future__ import print_function, division\n",
    "\n",
    "from thinkbayes2 import Hist, Pmf\n",
    "\n",
    "% matplotlib inline"
   ]
  },
  {
   "cell_type": "markdown",
   "metadata": {},
   "source": [
    "**Exercise 2.1** In Section 2.3 I said that the solution to the cookie problem generalizes to the case where we draw multiple cookies with replacement.\n",
    "\n",
    "But in the more likely scenario where we eat the cookies we draw, the likelihood of each draw depends on the previous draws.\n",
    "\n",
    "Modify the solution in this chapter to handle selection without replacement. Hint: add instance variables to Cookie to represent the hypothetical state of the bowls, and modify Likelihood accordingly. You might want to define a Bowl object."
   ]
  },
  {
   "cell_type": "markdown",
   "metadata": {},
   "source": [
    "**Solution**  Here's the original solution from the book:"
   ]
  },
  {
   "cell_type": "code",
   "execution_count": 2,
   "metadata": {
    "collapsed": false
   },
   "outputs": [
    {
     "name": "stdout",
     "output_type": "stream",
     "text": [
      "Bowl 1 0.6\n",
      "Bowl 2 0.4\n"
     ]
    }
   ],
   "source": [
    "pmf = Pmf()\n",
    "pmf.Set('Bowl 1', 0.5)\n",
    "pmf.Set('Bowl 2', 0.5)\n",
    "\n",
    "pmf.Mult('Bowl 1', 0.75)\n",
    "pmf.Mult('Bowl 2', 0.5)\n",
    "\n",
    "pmf.Normalize()\n",
    "\n",
    "pmf.Print()"
   ]
  },
  {
   "cell_type": "markdown",
   "metadata": {},
   "source": [
    "We could write it more concisely like this:"
   ]
  },
  {
   "cell_type": "code",
   "execution_count": 3,
   "metadata": {
    "collapsed": false
   },
   "outputs": [
    {
     "name": "stdout",
     "output_type": "stream",
     "text": [
      "Bowl 1 0.6\n",
      "Bowl 2 0.4\n"
     ]
    }
   ],
   "source": [
    "pmf = Pmf(['Bowl 1', 'Bowl 2'])\n",
    "\n",
    "pmf['Bowl 1'] *= 0.75\n",
    "pmf['Bowl 2'] *= 0.5\n",
    "\n",
    "pmf.Normalize()\n",
    "pmf.Print()"
   ]
  },
  {
   "cell_type": "markdown",
   "metadata": {},
   "source": [
    "And we can do a second update, with a chocolate cookie, like this:"
   ]
  },
  {
   "cell_type": "code",
   "execution_count": 4,
   "metadata": {
    "collapsed": false
   },
   "outputs": [
    {
     "name": "stdout",
     "output_type": "stream",
     "text": [
      "Bowl 1 0.428571428571\n",
      "Bowl 2 0.571428571429\n"
     ]
    }
   ],
   "source": [
    "pmf['Bowl 1'] *= 0.25\n",
    "pmf['Bowl 2'] *= 0.5\n",
    "\n",
    "pmf.Normalize()\n",
    "pmf.Print()"
   ]
  },
  {
   "cell_type": "markdown",
   "metadata": {},
   "source": [
    "Now let's solve the version of the problem where we don't replace the cookies.\n",
    "\n",
    "We'll need an object to keep track of the number of cookies in each bowl. I'll use a Hist object, defined in thinkbayes2:"
   ]
  },
  {
   "cell_type": "code",
   "execution_count": 5,
   "metadata": {
    "collapsed": false
   },
   "outputs": [
    {
     "name": "stdout",
     "output_type": "stream",
     "text": [
      "chocolate 10\n",
      "vanilla 30\n"
     ]
    }
   ],
   "source": [
    "bowl1 = Hist(dict(vanilla=30, chocolate=10))\n",
    "bowl2 = Hist(dict(vanilla=20, chocolate=20))\n",
    "\n",
    "bowl1.Print()"
   ]
  },
  {
   "cell_type": "markdown",
   "metadata": {},
   "source": [
    "Now I'll make a Pmf that contains the two bowls, giving them equal probability."
   ]
  },
  {
   "cell_type": "code",
   "execution_count": 6,
   "metadata": {
    "collapsed": false
   },
   "outputs": [
    {
     "name": "stdout",
     "output_type": "stream",
     "text": [
      "Hist({'vanilla': 30, 'chocolate': 10}) 0.5\n",
      "Hist({'vanilla': 20, 'chocolate': 20}) 0.5\n"
     ]
    }
   ],
   "source": [
    "pmf = Pmf([bowl1, bowl2])\n",
    "pmf.Print()"
   ]
  },
  {
   "cell_type": "markdown",
   "metadata": {},
   "source": [
    "Here's a likelihood function that takes `hypo`, which is one of the Hist objects that represents a bowl, and `data`, which is either `'vanilla'` or `'chocolate'`.\n",
    "\n",
    "`likelihood` computes the likelihood of the data under the hypothesis, and as a side effect, it removes one of the cookies from `hypo`"
   ]
  },
  {
   "cell_type": "code",
   "execution_count": 7,
   "metadata": {
    "collapsed": true
   },
   "outputs": [],
   "source": [
    "def likelihood(hypo, data):\n",
    "    like = hypo[data] / hypo.Total()\n",
    "    if like:\n",
    "        hypo[data] -= 1\n",
    "    return like"
   ]
  },
  {
   "cell_type": "markdown",
   "metadata": {},
   "source": [
    "Now for the update.  We have to loop through the hypotheses and compute the likelihood of the data under each hypothesis."
   ]
  },
  {
   "cell_type": "code",
   "execution_count": 8,
   "metadata": {
    "collapsed": true
   },
   "outputs": [],
   "source": [
    "def update(pmf, data):\n",
    "    for hypo in pmf:\n",
    "        pmf[hypo] *= likelihood(hypo, data)\n",
    "    return pmf.Normalize()"
   ]
  },
  {
   "cell_type": "markdown",
   "metadata": {},
   "source": [
    "Here's the first update.  The posterior probabilities are the same as what we got before, but notice that the number of cookies in each Hist has been updated."
   ]
  },
  {
   "cell_type": "code",
   "execution_count": 9,
   "metadata": {
    "collapsed": false
   },
   "outputs": [
    {
     "name": "stdout",
     "output_type": "stream",
     "text": [
      "Hist({'vanilla': 29, 'chocolate': 10}) 0.6\n",
      "Hist({'vanilla': 19, 'chocolate': 20}) 0.4\n"
     ]
    }
   ],
   "source": [
    "update(pmf, 'vanilla')\n",
    "pmf.Print()"
   ]
  },
  {
   "cell_type": "markdown",
   "metadata": {},
   "source": [
    "So when we update again with a chocolate cookies, we get different likelihoods, and different posteriors."
   ]
  },
  {
   "cell_type": "code",
   "execution_count": 10,
   "metadata": {
    "collapsed": false
   },
   "outputs": [
    {
     "name": "stdout",
     "output_type": "stream",
     "text": [
      "Hist({'vanilla': 29, 'chocolate': 9}) 0.428571428571\n",
      "Hist({'vanilla': 19, 'chocolate': 19}) 0.571428571429\n"
     ]
    }
   ],
   "source": [
    "update(pmf, 'chocolate')\n",
    "pmf.Print()"
   ]
  },
  {
   "cell_type": "markdown",
   "metadata": {},
   "source": [
    "If we get 10 more chocolate cookies, that eliminates Bowl 1 completely"
   ]
  },
  {
   "cell_type": "code",
   "execution_count": 11,
   "metadata": {
    "collapsed": false
   },
   "outputs": [
    {
     "name": "stdout",
     "output_type": "stream",
     "text": [
      "0.26213592233\n",
      "0.136363636364\n",
      "0.0610465116279\n",
      "0.0238005289006\n",
      "0.00806142034549\n",
      "0.0023166023166\n",
      "0.000535554894377\n",
      "8.92990028278e-05\n",
      "8.11875025371e-06\n",
      "0.0\n"
     ]
    }
   ],
   "source": [
    "for i in range(10):\n",
    "    update(pmf, 'chocolate')\n",
    "    print(pmf[bowl1])"
   ]
  },
  {
   "cell_type": "markdown",
   "metadata": {},
   "source": []
  },
  {
   "cell_type": "code",
   "execution_count": null,
   "metadata": {
    "collapsed": false
   },
   "outputs": [],
   "source": []
  },
  {
   "cell_type": "markdown",
   "metadata": {},
   "source": []
  },
  {
   "cell_type": "code",
   "execution_count": null,
   "metadata": {
    "collapsed": false
   },
   "outputs": [],
   "source": []
  },
  {
   "cell_type": "code",
   "execution_count": null,
   "metadata": {
    "collapsed": false
   },
   "outputs": [],
   "source": []
  },
  {
   "cell_type": "code",
   "execution_count": null,
   "metadata": {
    "collapsed": false
   },
   "outputs": [],
   "source": []
  },
  {
   "cell_type": "code",
   "execution_count": null,
   "metadata": {
    "collapsed": true
   },
   "outputs": [],
   "source": []
  },
  {
   "cell_type": "code",
   "execution_count": null,
   "metadata": {
    "collapsed": true
   },
   "outputs": [],
   "source": []
  }
 ],
 "metadata": {
  "kernelspec": {
   "display_name": "Python 2",
   "language": "python",
   "name": "python2"
  },
  "language_info": {
   "codemirror_mode": {
    "name": "ipython",
    "version": 2
   },
   "file_extension": ".py",
   "mimetype": "text/x-python",
   "name": "python",
   "nbconvert_exporter": "python",
   "pygments_lexer": "ipython2",
   "version": "2.7.12"
  }
 },
 "nbformat": 4,
 "nbformat_minor": 0
}
