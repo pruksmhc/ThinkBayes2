{
 "cells": [
  {
   "cell_type": "markdown",
   "metadata": {
    "collapsed": true
   },
   "source": [
    "NOTE: One should not participate in such activity and the author has not participated in such activity. \n",
    "This is based on that one movie about friends who cheat on the SAT. \n",
    "A group of four friends are about to take a major international math competition exam similar to the IMO but which is made up of one multiple choice question in mathematics. They pass by a room and see the Head of Examination for their school discuss the answer. Simon says he overheard the Head saying the answer is A and thinks it is the answer. The friends, since they love math, decided to do an analysis. The distribution of answers in the past are as below:\n",
    "A: 35% \n",
    "B: 19% \n",
    "C: 20% \n",
    "D: 36% \n",
    "Given that Simon was telling the truth  (in that he indeed heard A), and human hearing at age 18 (Simon’s age) is inaccurate 0.24 of the time, what is the probability that the answer is indeed A? \n"
   ]
  },
  {
   "cell_type": "code",
   "execution_count": 6,
   "metadata": {
    "collapsed": true
   },
   "outputs": [],
   "source": [
    "from __future__ import print_function, division\n",
    "\n",
    "from thinkbayes2 import Hist, Pmf\n",
    "\n",
    "% matplotlib inline"
   ]
  },
  {
   "cell_type": "code",
   "execution_count": 10,
   "metadata": {
    "collapsed": false
   },
   "outputs": [
    {
     "name": "stdout",
     "output_type": "stream",
     "text": [
      "The answer is not A 0.369668246445\n",
      "The answer to the exam is indeed A 0.630331753555\n"
     ]
    }
   ],
   "source": [
    "pmf = Pmf()\n",
    "pmf.Set('The answer to the exam is indeed A', 0.35)\n",
    "pmf.Set('The answer is not A', 0.65)\n",
    "pmf.Mult('The answer to the exam is indeed A', 0.76)\n",
    "pmf.Mult('The answer is not A', 0.24)\n",
    "pmf.Normalize()\n",
    "pmf.Print()"
   ]
  },
  {
   "cell_type": "markdown",
   "metadata": {
    "collapsed": true
   },
   "source": [
    "Explanation: The prior is stated as above. The original question is : given Simon heard A, what is the probaiblity that the answer is indeed A? To answer this question, H is the event that the answer is indeed A, and D is the event that P(H1) = 0.35, where H1 is the answer is indeed A. P(H2) = 0.65, where H2 is that the answer is not A. The likelihood, or P(D|H1) = (0.35)(0.76), and P(D|H2) = (0.65)(0.24). Thus, by adding the two likelihoods and finding the probability, the probability of the answer to the exam being indeed A is 0.63. "
   ]
  },
  {
   "cell_type": "markdown",
   "metadata": {
    "collapsed": true
   },
   "source": []
  },
  {
   "cell_type": "code",
   "execution_count": null,
   "metadata": {
    "collapsed": true
   },
   "outputs": [],
   "source": []
  }
 ],
 "metadata": {
  "kernelspec": {
   "display_name": "Python 2",
   "language": "python",
   "name": "python2"
  },
  "language_info": {
   "codemirror_mode": {
    "name": "ipython",
    "version": 2
   },
   "file_extension": ".py",
   "mimetype": "text/x-python",
   "name": "python",
   "nbconvert_exporter": "python",
   "pygments_lexer": "ipython2",
   "version": "2.7.12"
  }
 },
 "nbformat": 4,
 "nbformat_minor": 1
}
