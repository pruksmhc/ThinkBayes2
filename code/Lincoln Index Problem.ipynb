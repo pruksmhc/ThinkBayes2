{
 "cells": [
  {
   "cell_type": "code",
   "execution_count": 5,
   "metadata": {
    "collapsed": true
   },
   "outputs": [],
   "source": [
    "import numpy as np"
   ]
  },
  {
   "cell_type": "code",
   "execution_count": 12,
   "metadata": {
    "collapsed": false
   },
   "outputs": [],
   "source": [
    "class LincolnIndex:\n",
    "    \n",
    "    def __init__(self, num_bugs, prob_1, prob_2):\n",
    "        self.num_bugs = num_bugs\n",
    "        self.prob_1 = prob_1 \n",
    "        self.prob_2 = prob_2 \n",
    "        \n",
    "    def create_outcomes(self):\n",
    "        bugs_1 = np.random.binomial(self.num_bugs, self.prob_1)\n",
    "        bugs_2 = np.random.binomial(self.num_bugs , self.prob_2)\n",
    "        \n",
    "        \n",
    "            #Keep track of all of the k1s, and all the k2s, and then creat eh distirubiton. "
   ]
  },
  {
   "cell_type": "code",
   "execution_count": 13,
   "metadata": {
    "collapsed": false
   },
   "outputs": [
    {
     "name": "stdout",
     "output_type": "stream",
     "text": [
      "7\n"
     ]
    }
   ],
   "source": [
    "lincoln_index = LincolnIndex(100, 0.1, 0.2) \n",
    "lincoln_index.create_outcomes()"
   ]
  },
  {
   "cell_type": "markdown",
   "metadata": {},
   "source": [
    "You have to estimate. You want to now how good the testers are aand how many bugs there are .So the parmaeters need to be measured using Bayesian as well.  Your hypothesis is (n, p1, p2). WHhat ist he hypothesis you need to get the actual k1, k2, and c?\n",
    "For the Lincoln problem, p1 = uniform  (0, 1) \n",
    "p2 = 11 \n",
    "So  n could be 20, uniform (32, examples) \n",
    "Unreliable testers (unreliable coin k problem). \n",
    "Marginal distribution of n, lower bound will be 32. Mode will be 100, and then drop off. \n",
    "If you see a graph like that. \n",
    "Gap is that the prior. unwarrented assumption, to omuch influence on the opsterior. \n",
    "Values above 110 are impossible. So what does that mean waht's an exmaple of when that's okay?\n",
    "\n"
   ]
  },
  {
   "cell_type": "code",
   "execution_count": null,
   "metadata": {
    "collapsed": true
   },
   "outputs": [],
   "source": []
  }
 ],
 "metadata": {
  "kernelspec": {
   "display_name": "Python 2",
   "language": "python",
   "name": "python2"
  },
  "language_info": {
   "codemirror_mode": {
    "name": "ipython",
    "version": 2
   },
   "file_extension": ".py",
   "mimetype": "text/x-python",
   "name": "python",
   "nbconvert_exporter": "python",
   "pygments_lexer": "ipython2",
   "version": "2.7.12"
  }
 },
 "nbformat": 4,
 "nbformat_minor": 1
}
