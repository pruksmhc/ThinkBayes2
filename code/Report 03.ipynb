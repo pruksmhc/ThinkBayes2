{
 "cells": [
  {
   "cell_type": "markdown",
   "metadata": {},
   "source": [
    "# Report 3 \n",
    "### Yada Pruksachatkun"
   ]
  },
  {
   "cell_type": "code",
   "execution_count": 5,
   "metadata": {
    "collapsed": true
   },
   "outputs": [],
   "source": [
    "from __future__ import print_function, division\n",
    "\n",
    "% matplotlib inline\n",
    "import warnings\n",
    "warnings.filterwarnings('ignore')\n",
    "\n",
    "import numpy as np\n",
    "\n",
    "from thinkbayes2 import Pmf, Cdf, Suite, Beta\n",
    "import thinkplot"
   ]
  },
  {
   "cell_type": "markdown",
   "metadata": {},
   "source": [
    "## Chapter 5"
   ]
  },
  {
   "cell_type": "markdown",
   "metadata": {},
   "source": [
    "Suppose you are having a dinner party with 10 guests and 4 of them are allergic to cats. Because you have cats, you expect 50% of the allergic guests to sneeze during dinner. At the same time, you expect 10% of the non-allergic guests to sneeze. What is the distribution of the total number of guests who sneeze?\n"
   ]
  },
  {
   "cell_type": "code",
   "execution_count": 3,
   "metadata": {
    "collapsed": false
   },
   "outputs": [
    {
     "name": "stdout",
     "output_type": "stream",
     "text": [
      "0 0.0332150625\n",
      "1 0.155003625\n",
      "2 0.2940148125\n",
      "3 0.2912355\n",
      "4 0.162415125\n",
      "5 0.05252175\n",
      "6 0.010265125\n",
      "7 0.0012355\n",
      "8 8.98125e-05\n",
      "9 3.625e-06\n",
      "10 6.25e-08\n"
     ]
    }
   ],
   "source": [
    "from thinkbayes2 import MakeBinomialPmf\n",
    "total_allergic = 4\n",
    "total_nonallergic = 6\n",
    "prob_sneeze_allergic = 0.5\n",
    "prob_sneeze_nallergic = 0.1\n",
    "allergic_pmf = MakeBinomialPmf(total_allergic, prob_sneeze_allergic)\n",
    "nallergic_pmf = MakeBinomialPmf(total_nonallergic, prob_sneeze_nallergic)\n",
    "total_pmf = allergic_pmf + nallergic_pmf\n",
    "total_pmf.Print()"
   ]
  },
  {
   "cell_type": "markdown",
   "metadata": {},
   "source": [
    "Exercise This study from 2015 showed that many subjects diagnosed with non-celiac gluten sensitivity (NCGS) were not able to distinguish gluten flour from non-gluten flour in a blind challenge.\n",
    "Here is a description of the study:\n",
    "\"We studied 35 non-CD subjects (31 females) that were on a gluten-free diet (GFD), in a double-blind challenge study. Participants were randomised to receive either gluten-containing ﬂour or gluten-free ﬂour for 10 days, followed by a 2-week washout period and were then crossed over. The main outcome measure was their ability to identify which ﬂour contained gluten. \"The gluten-containing ﬂour was correctly identiﬁed by 12 participants (34%)...\" Since 12 out of 35 participants were able to identify the gluten flour, the authors conclude \"Double-blind gluten challenge induces symptom recurrence in just one-third of patients fulﬁlling the clinical diagnostic criteria for non-coeliac gluten sensitivity.\"\n",
    "Of the 35 subjects, 12 identified the gluten flour based on resumption of symptoms while they were eating it. Another 17 subjects wrongly identified the gluten-free flour based on their symptoms, and 6 subjects were unable to distinguish. \n",
    "Main assumptions: (1) people who are actually gluten sensitive have a 95% chance of correctly identifying gluten flour under the challenge conditions, and (2) subjects who are not gluten sensitive have only a 40% chance of identifying the gluten flour by chance (and a 60% chance of either choosing the other flour or failing to distinguish).\n",
    "Using this model, estimate the number of study participants who are sensitive to gluten. What is the most likely number? What is the 95% credible interval?"
   ]
  },
  {
   "cell_type": "code",
   "execution_count": 4,
   "metadata": {
    "collapsed": true
   },
   "outputs": [],
   "source": [
    "class Gluten(Suite):\n",
    "    \n",
    "    def Likelihood(self, data, hypo):\n",
    "        \"\"\"Computes the probability of the data under the hypothesis.\n",
    "        \n",
    "        data: Number who identified, number who did not (in a tuple)\n",
    "        hypothesis: number of participants who are gluten sensitive\n",
    "        \"\"\"\n",
    "        gs = hypo\n",
    "        yes, no = data\n",
    "        n = yes + no\n",
    "        ngs = n - gs\n",
    "        \n",
    "        pmf1 = MakeBinomialPmf(gs, 0.95)\n",
    "        pmf2 = MakeBinomialPmf(ngs, 0.4)\n",
    "        pmf = pmf1 + pmf2\n",
    "        return pmf[yes]"
   ]
  },
  {
   "cell_type": "code",
   "execution_count": 5,
   "metadata": {
    "collapsed": false
   },
   "outputs": [
    {
     "data": {
      "image/png": "[encoded data removed]",
      "text/plain": [
       "<matplotlib.figure.Figure at 0x10b8ccd10>"
      ]
     },
     "metadata": {},
     "output_type": "display_data"
    }
   ],
   "source": [
    "gluten_dist = Gluten(range(0, 35+1))\n",
    "gluten_dist = gluten_dist.Copy()\n",
    "data = 12, 23\n",
    "gluten_dist.Update(data)\n",
    "thinkplot.Pdf(gluten_dist)\n",
    "thinkplot.Config(xlabel='# who are gluten sensitive', \n",
    "                 ylabel='PMF', legend=False)"
   ]
  },
  {
   "cell_type": "markdown",
   "metadata": {},
   "source": [
    "## Chapter 9"
   ]
  },
  {
   "cell_type": "markdown",
   "metadata": {},
   "source": [
    "**Exercise:** From [John D. Cook](http://www.johndcook.com/blog/2010/07/13/lincoln-index/)\n",
    "\n",
    "\"Suppose you have a tester who finds 20 bugs in your program. You want to estimate how many bugs are really in the program. You know there are at least 20 bugs, and if you have supreme confidence in your tester, you may suppose there are around 20 bugs. But maybe your tester isn't very good. Maybe there are hundreds of bugs. How can you have any idea how many bugs there are? There’s no way to know with one tester. But if you have two testers, you can get a good idea, even if you don’t know how skilled the testers are.\n",
    "\n",
    "Suppose two testers independently search for bugs. Let k1 be the number of errors the first tester finds and k2 the number of errors the second tester finds. Let c be the number of errors both testers find.  The Lincoln Index estimates the total number of errors as k1 k2 / c [I changed his notation to be consistent with mine].\"\n",
    "\n",
    "So if the first tester finds 20 bugs, the second finds 15, and they find 3 in common, we estimate that there are about 100 bugs.  What is the Bayesian estimate of the number of errors based on this data?"
   ]
  },
  {
   "cell_type": "code",
   "execution_count": null,
   "metadata": {
    "collapsed": false
   },
   "outputs": [],
   "source": [
    "from scipy.special import binom as choose\n",
    "\n",
    "def binomial(k, n, p):\n",
    "    \"\"\"Computes the rest of the binomial PMF.\n",
    "\n",
    "    k: number of hits\n",
    "    n: number of attempts\n",
    "    p: probability of a hit\n",
    "    \"\"\"\n",
    "    return p**k * (1-p)**(n-k)\n",
    "\n",
    "class LincolnIndex(Suite):\n",
    "    \n",
    "    def Likelihood(self, data, hypo):\n",
    "        \"\"\"Computes the probability of the data under the hypothesis.\n",
    "        \n",
    "        data: Number of errors found by tester 1, 2, common and actual number of bugs. \n",
    "        hypothesis: Probability of accuracy of tester 1 and tester 2, and number of errors.\n",
    "        \"\"\"\n",
    "        num_errors, prob_1, prob_2  = hypo\n",
    "        acc_1, acc_2, common = data\n",
    "        # the probability for tester 1 and 2 to find the number of bugs, given the probaiblity of \n",
    "        # tester 1 accurately identifying a bug and the total number of bugs. \n",
    "        tester_1 = choose(num_errors, acc_1) * binomial(acc_1, num_errors, prob_1)\n",
    "        tester_2 = choose(num_errors, acc_2) * binomial(acc_2, num_errors, prob_2)\n",
    "        # becuase the event of tester 1 finding acc_1 bugs has nothing to do with that \n",
    "        # of tester 2,to find the combined probability, simply multiply\n",
    "        return tester_1 * tester_2"
   ]
  },
  {
   "cell_type": "code",
   "execution_count": null,
   "metadata": {
    "collapsed": false
   },
   "outputs": [],
   "source": [
    "# Solution\n",
    "import numpy as np\n",
    "data = 20, 15, 3\n",
    "probs = np.linspace(0, 10, 31)\n",
    "hypos = []\n",
    "for n in range(32, 10):\n",
    "    for p1 in probs:\n",
    "        for p2 in probs:\n",
    "            hypos.append((n, p1, p2))\n",
    "\n",
    "suite = LincolnIndex(hypos)\n",
    "suite.Update(data)"
   ]
  },
  {
   "cell_type": "code",
   "execution_count": null,
   "metadata": {
    "collapsed": true
   },
   "outputs": [],
   "source": [
    "# Marginal distribution, given the number of bugs and y label\n",
    "\n",
    "n_marginal = suite.Marginal(0)\n",
    "thinkplot.Pmf(n_marginal, label='n')\n",
    "thinkplot.Config(xlabel='number of bugs',\n",
    "                   ylabel='PMF')\n",
    "\n",
    "print('post mean n', n_marginal.Mean())\n",
    "print('MAP n', n_marginal.MAP())"
   ]
  },
  {
   "cell_type": "markdown",
   "metadata": {},
   "source": []
  },
  {
   "cell_type": "markdown",
   "metadata": {},
   "source": [
    " # Original Problem"
   ]
  },
  {
   "cell_type": "markdown",
   "metadata": {},
   "source": [
    "\n",
    "1) We are given some of the parameters, but can't simulate the system without providing missing parameters.\n",
    "2) We are given a sample of outcomes, and we're trying to infer the missing parameters.\n",
    "3) We have to have a prior distribution for the parameters we're estimating.\n",
    "\n",
    " ##  Problem:  The Resident Evil Problem\n",
    " \n",
    "Problem: In the video game world of Resident Evil, humanity was almost erased by the The T-Virus, which causes increased strength alongside dementia and cell-neurosis, turning humans into zombie-like states. While those effects hold true for most humans, some human's genetic makeup allows them to bond with the virus, letting them keep increased strength without the zombifying effects. \n",
    "Fifty years after the outbreak, almost everyone above ground has become insame with the virus. However, a small enclave below ground houses the last pockets of humans. There is a task force selected to go above-ground to scavange for food,the members of whom must have the antibody necessary to bond with the virus. The scientists in the facility have identified her husband as having a chance of having the antibody, but their supply of antibody diagnosis has run out. She knows her child and her both have the antibody.  Now, Ali must figure out the actual chances of her husband having the antibody. \n",
    "This is what Ali knows of her family history:\n",
    "\n",
    "This is what Ali knows:\n",
    "\n",
    "-Out of her extended family, her parents both had the antibody to the gene. \n",
    "-She has the antibody\n",
    "-Her child has the antibody\n",
    "\n",
    "\n",
    "The scientists also have a document of the collection of documents which detais the lineage of people with and without the antibodies. To the knowledge of the scientists, there is no way topartiifically pass the antibody on without terminating side effects. \n",
    "\n",
    "Using the attached file and what Ali knows, what is the probability her husband will have the antibody? "
   ]
  },
  {
   "cell_type": "markdown",
   "metadata": {},
   "source": [
    " ### Solution"
   ]
  },
  {
   "cell_type": "markdown",
   "metadata": {},
   "source": [
    "First, we must find the probability of the antibody being passed on to the lineage. In the r_virus.txt, each of the probabilities for the parents represent the number of parents who had the antibody (50% = 1 parent of two). We can phrase the question of probability of the antibody being passed on to the lineage as a conditional probaiblity. \n",
    "\n",
    "Y = The hypothesis that the person has the antibody\n",
    "\n",
    "N = The hypothesis that the person does not have the antibody\n"
   ]
  },
  {
   "cell_type": "code",
   "execution_count": 2,
   "metadata": {
    "collapsed": false
   },
   "outputs": [],
   "source": [
    "from thinkbayes2 import Pmf, Cdf, Suite\n",
    "\n",
    "class TVirus(Suite):\n",
    "\n",
    "    def Likelihood(self, data, hypo):\n",
    "        \"\"\"Computes the likelihood of `data` given `hypo`.\n",
    "        \n",
    "        data: string 'Y' (child has the T-virus) or 'N' (child does not have the T-virus)\n",
    "        hypo: probability of the antibody gene activation being passed\n",
    "        down through generations\n",
    "        \n",
    "        returns: float\n",
    "        \"\"\"\n",
    "        x = hypo\n",
    "        if data == 'Y':\n",
    "            return hypo\n",
    "        else:\n",
    "            return 1 - hypo\n"
   ]
  },
  {
   "cell_type": "markdown",
   "metadata": {},
   "source": [
    "Before you can actually use the class, and run it through the data, notice that the data is not clean. Let's clean it! "
   ]
  },
  {
   "cell_type": "code",
   "execution_count": 105,
   "metadata": {
    "collapsed": false
   },
   "outputs": [
    {
     "name": "stdout",
     "output_type": "stream",
     "text": [
      "{'100%': {'Y': 6, 'N': 2}, '50%': {'Y': 6, 'N': 8}}\n"
     ]
    }
   ],
   "source": [
    "import csv\n",
    "\n",
    "def read_data(filename='t_virus_report.csv'):\n",
    "    \"\"\"Read the reports from the file \n",
    "    \"\"\"\n",
    "    results = {}\n",
    "    with open(filename, 'r') as csvfile:\n",
    "        reader = csv.DictReader(open(filename, 'rU'))\n",
    "        for row in reader:\n",
    "            if ((row['T virus Antibody'] is not '') and (row['Parents'] is not '') and \n",
    "                row['Parents'] !='0%'):\n",
    "                percentage = row['Parents']\n",
    "                if (row['T virus Antibody'] == 'Y'):\n",
    "                    if results.get(percentage) is None:\n",
    "                        results[percentage]= {'Y': 1, 'N':0}\n",
    "                    else:\n",
    "                        results[percentage]['Y'] = results[percentage]['Y'] + 1 \n",
    "                elif (row['T virus Antibody'] == 'N'):\n",
    "                    if results.get(percentage) is None:\n",
    "                        results[percentage]= {'N': 1}\n",
    "                    else:\n",
    "                        results[percentage]['N'] = results[percentage]['N'] + 1    \n",
    "    return results\n",
    "\n",
    "results = read_data()\n",
    "print(results)\n"
   ]
  },
  {
   "cell_type": "code",
   "execution_count": 110,
   "metadata": {
    "collapsed": false
   },
   "outputs": [],
   "source": [
    "\n",
    "class Antibody(Suite):\n",
    "    def __init__(self, hypos):\n",
    "        Pmf.__init__(self)\n",
    "        for hypo in hypos:\n",
    "            self[hypo] = 1\n",
    "        self.Normalize()\n",
    "        self.yes_count = 0\n",
    "        self.no_count = 0\n",
    "        \n",
    "    def Likelihood(self, data, hypo):\n",
    "        if (data == 'Y'):\n",
    "            self.yes_count = self.yes_count + 1\n",
    "        else:\n",
    "            self.no_count = self.no_count + 1\n",
    "        if ((data == 'Y' and hypo == 0) or\n",
    "            (data =='N' and hypo == 100)):\n",
    "            return 0 \n",
    "        elif (data =='Y' and hypo == 100):\n",
    "            return 0\n",
    "        if (data == 'Y'):\n",
    "            return hypo/100\n",
    "        else:\n",
    "            return (1-hypo)/100\n",
    "                    \n"
   ]
  },
  {
   "cell_type": "code",
   "execution_count": 111,
   "metadata": {
    "collapsed": false
   },
   "outputs": [
    {
     "name": "stdout",
     "output_type": "stream",
     "text": [
      "{'Y': 6, 'N': 2}\n"
     ]
    },
    {
     "data": {
      "text/plain": [
       "89.56844357850015"
      ]
     },
     "execution_count": 111,
     "metadata": {},
     "output_type": "execute_result"
    },
    {
     "data": {
      "image/png": "[encoded data removed]",
      "text/plain": [
       "<matplotlib.figure.Figure at 0x109bdc250>"
      ]
     },
     "metadata": {},
     "output_type": "display_data"
    }
   ],
   "source": [
    "suite = Antibody(range(0, 100))\n",
    "for res in results:\n",
    "    if res == '100%':\n",
    "        values = results[res]\n",
    "        print(values)\n",
    "        for key, value in values.items():\n",
    "            for i in range((int(value))):\n",
    "                suite.Update(key)\n",
    "thinkplot.Pdf(suite)\n",
    "suite.Mean()"
   ]
  },
  {
   "cell_type": "markdown",
   "metadata": {
    "collapsed": true
   },
   "source": [
    "Thus the probability the antibody will be passed down if both parents have the antibody is 89.605% Let us now try for if one parent has the antibody."
   ]
  },
  {
   "cell_type": "code",
   "execution_count": 114,
   "metadata": {
    "collapsed": false
   },
   "outputs": [
    {
     "name": "stdout",
     "output_type": "stream",
     "text": [
      "100%\n",
      "50%\n",
      "{'Y': 6, 'N': 8}\n"
     ]
    }
   ],
   "source": [
    "suite_two = Antibody(range(0, 100))\n",
    "for res in results:\n",
    "    if res == '50%':\n",
    "        values = results[res]\n",
    "        for key, value in values.items():\n",
    "            for i in range((int(value))):\n",
    "                suite_two.Update(key)"
   ]
  },
  {
   "cell_type": "code",
   "execution_count": 119,
   "metadata": {
    "collapsed": false
   },
   "outputs": [
    {
     "data": {
      "text/plain": [
       "93.3052988006184"
      ]
     },
     "execution_count": 119,
     "metadata": {},
     "output_type": "execute_result"
    },
    {
     "data": {
      "image/png": "[encoded data removed]",
      "text/plain": [
       "<matplotlib.figure.Figure at 0x1095611d0>"
      ]
     },
     "metadata": {},
     "output_type": "display_data"
    }
   ],
   "source": [
    "thinkplot.Pdf(suite_two)\n",
    "suite_two.Mean()"
   ]
  },
  {
   "cell_type": "markdown",
   "metadata": {},
   "source": [
    "Thus, the probability of a child having the antibody given one of the parents has the antibody is 0.93305. Now, she must figure out the probaiblity of her husband having the antibody. Although we can construct a class for this, because the hypothesis is binary, it is easier to compute by hand. "
   ]
  },
  {
   "cell_type": "code",
   "execution_count": 123,
   "metadata": {
    "collapsed": false
   },
   "outputs": [
    {
     "name": "stdout",
     "output_type": "stream",
     "text": [
      "0.510114263846\n",
      "0.467599040041\n"
     ]
    }
   ],
   "source": [
    "prob_husband_no_antibody = 0.5*(0.93305)\n",
    "prob_husband_yes_antibody = 0.5*(0.89605)\n",
    "prob_husband_no_antibody = prob_husband_no_antibody/ (prob_husband_no_antibody + prob_husband_yes_antibody)\n",
    "prob_husband_yes_antibody = prob_husband_yes_antibody/ (prob_husband_no_antibody + prob_husband_yes_antibody)\n",
    "print(prob_husband_no_antibody)\n",
    "print(prob_husband_yes_antibody)\n"
   ]
  },
  {
   "cell_type": "markdown",
   "metadata": {},
   "source": [
    "Thus, there is a slightly higher chance that the husband does not have the antibody. "
   ]
  },
  {
   "cell_type": "markdown",
   "metadata": {},
   "source": [
    "4) Please include an update on where you are with respect to the project.  Is there a problem you have started that you could continue to work on?  Is there a domain or problem you are interested in but don't know how to solve?"
   ]
  },
  {
   "cell_type": "markdown",
   "metadata": {
    "collapsed": true
   },
   "source": [
    "My partner Andrea Jackson and I came up with two main ideas for the final project, which can be found here:\n",
    "https://docs.google.com/document/d/1n-bS4zZ_S5f5sV-okZDyDADuaI_W4cXjK6obPJIQFig/edit?usp=sharing\n",
    "We are using MCMC and Survival Analysis. Here is how we connected Survival Analysis to our first idea (Airbnb). \n"
   ]
  },
  {
   "cell_type": "code",
   "execution_count": 125,
   "metadata": {
    "collapsed": false,
    "scrolled": true
   },
   "outputs": [
    {
     "data": {
      "text/html": [
       "<iframe src=./Survival_Analysis_Notes.pdf width=700 height=350></iframe>"
      ],
      "text/plain": [
       "<IPython.core.display.HTML object>"
      ]
     },
     "execution_count": 125,
     "metadata": {},
     "output_type": "execute_result"
    }
   ],
   "source": [
    "from IPython.display import HTML\n",
    "HTML('<iframe src=./Survival_Analysis_Notes.pdf width=700 height=350></iframe>')"
   ]
  }
 ],
 "metadata": {
  "kernelspec": {
   "display_name": "Python 2",
   "language": "python",
   "name": "python2"
  },
  "language_info": {
   "codemirror_mode": {
    "name": "ipython",
    "version": 2
   },
   "file_extension": ".py",
   "mimetype": "text/x-python",
   "name": "python",
   "nbconvert_exporter": "python",
   "pygments_lexer": "ipython2",
   "version": "2.7.12"
  }
 },
 "nbformat": 4,
 "nbformat_minor": 1
}
