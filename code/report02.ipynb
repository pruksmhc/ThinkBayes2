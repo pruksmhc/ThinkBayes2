{
 "cells": [
  {
   "cell_type": "markdown",
   "metadata": {},
   "source": [
    "# Report 2\n",
    "## by Yada Pruksachatkun\n"
   ]
  },
  {
   "cell_type": "markdown",
   "metadata": {
    "collapsed": false
   },
   "source": [
    "Two identical twins are members of my chess club, but they never show up on the same day; in fact, they strictly alternate the days they show up.  I can't tell them apart except that one is a better player than the other:  Avery beats me 60% of the time and I beat Blake 70% of the time.  If I play one twin on Monday and win, and the other twin on Tuesday and lose, which twin did I play on which day"
   ]
  },
  {
   "cell_type": "code",
   "execution_count": null,
   "metadata": {
    "collapsed": true
   },
   "outputs": [],
   "source": [
    "from __future__ import division\n",
    "from thinkbayes2 import Suite, Pmf\n",
    "import itertools"
   ]
  },
  {
   "cell_type": "code",
   "execution_count": null,
   "metadata": {
    "collapsed": true
   },
   "outputs": [],
   "source": [
    "pmf = Pmf(hypo_one=['Avery', 'Blake'], hypo_two=['Blake', 'Avery'])\n",
    "pmf.Multi('hypo_one',0.4*0.3)\n",
    "pmf.Multi('hypo_two', 0.7*0.6)\n",
    "pmf.Normalize()\n",
    "pmf.Print()"
   ]
  },
  {
   "cell_type": "markdown",
   "metadata": {},
   "source": [
    "### Exercise 3.1 \n",
    "I put in a few axioms to this problem. The hypothesis here will be in the form of a list of lists, each of which represent a combination of the number of locomotives each company has. The user will input the maximum number of cars a company can have (high), and the number of car companies (n). "
   ]
  },
  {
   "cell_type": "code",
   "execution_count": null,
   "metadata": {
    "collapsed": true
   },
   "outputs": [],
   "source": []
  },
  {
   "cell_type": "code",
   "execution_count": null,
   "metadata": {
    "collapsed": false
   },
   "outputs": [],
   "source": [
    "\n",
    "class TrainModified(Suite):\n",
    "    def __init__(self, n, high):\n",
    "        \"\"\"Initialize self.\n",
    "\n",
    "        hypos: sequence of string bowl IDs\n",
    "        \"\"\"\n",
    "        Pmf.__init__(self)\n",
    "        hypos = []\n",
    "        base_list = range(0, high)\n",
    "        hypos = set(itertools.combinations(base_list, n))\n",
    "            \n",
    "        for hypo in hypos:\n",
    "            self.Set(hypo, 1)\n",
    "        self.Normalize()\n",
    "\n",
    "\n",
    "    \n",
    "    def Likelihood(self, data, hypo):\n",
    "        print(hypo)\n",
    "        num_pass = 0\n",
    "        for h in hypo:\n",
    "            if h >= data:\n",
    "                num_pass = num_pass + 1 \n",
    "        return num_pass/len(hypo) \n",
    "    \n",
    "\n",
    "suite = TrainModified(10, 60)\n",
    "suite.Update(60)\n",
    "\n",
    "suite.Print()            \n",
    "            \n",
    "            "
   ]
  },
  {
   "cell_type": "markdown",
   "metadata": {},
   "source": [
    "### Exercise 4.1."
   ]
  },
  {
   "cell_type": "code",
   "execution_count": null,
   "metadata": {
    "collapsed": false
   },
   "outputs": [],
   "source": [
    "\n",
    "class BiasDetector(Suite):\n",
    "    def __init__(self, outcomes, y_value):\n",
    "        self.y_value = y_value\n",
    "        self.outcomes = outcomes\n",
    "        \n",
    "    # Given a heads or tails in the sequence of flips, \n",
    "    # wherehypo is the probablity tha tthe coin will \n",
    "    # flip heads, the below computes the likelihood of \n",
    "    # a flip that is \"heads\" actually indicates a true heads. \n",
    "    def Likelihood(self, data, hypo):\n",
    "        x = hypo\n",
    "        if data == 'H':\n",
    "            return (x/100.0)*(1 - y_value)\n",
    "        else:\n",
    "            return ((1-x)/100.0)*(1 - y_value)\n",
    "    \n",
    "    def detectBias():\n",
    "        for item in outcomes:\n",
    "            suite.Update(item)\n",
    "        return thinkbayes.MaximumLikelihood(self)\n",
    "        "
   ]
  },
  {
   "cell_type": "code",
   "execution_count": null,
   "metadata": {
    "collapsed": true
   },
   "outputs": [],
   "source": []
  }
 ],
 "metadata": {
  "kernelspec": {
   "display_name": "Python 2",
   "language": "python",
   "name": "python2"
  },
  "language_info": {
   "codemirror_mode": {
    "name": "ipython",
    "version": 2
   },
   "file_extension": ".py",
   "mimetype": "text/x-python",
   "name": "python",
   "nbconvert_exporter": "python",
   "pygments_lexer": "ipython2",
   "version": "2.7.12"
  }
 },
 "nbformat": 4,
 "nbformat_minor": 1
}
